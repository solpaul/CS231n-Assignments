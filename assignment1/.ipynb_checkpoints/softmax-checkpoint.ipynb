{
 "cells": [
  {
   "cell_type": "markdown",
   "metadata": {},
   "source": [
    "# Softmax exercise\n",
    "\n",
    "*Complete and hand in this completed worksheet (including its outputs and any supporting code outside of the worksheet) with your assignment submission. For more details see the [assignments page](http://vision.stanford.edu/teaching/cs231n/assignments.html) on the course website.*\n",
    "\n",
    "This exercise is analogous to the SVM exercise. You will:\n",
    "\n",
    "- implement a fully-vectorized **loss function** for the Softmax classifier\n",
    "- implement the fully-vectorized expression for its **analytic gradient**\n",
    "- **check your implementation** with numerical gradient\n",
    "- use a validation set to **tune the learning rate and regularization** strength\n",
    "- **optimize** the loss function with **SGD**\n",
    "- **visualize** the final learned weights\n"
   ]
  },
  {
   "cell_type": "code",
   "execution_count": 1,
   "metadata": {
    "collapsed": false
   },
   "outputs": [],
   "source": [
    "import random\n",
    "import numpy as np\n",
    "from cs231n.data_utils import load_CIFAR10\n",
    "import matplotlib.pyplot as plt\n",
    "%matplotlib inline\n",
    "plt.rcParams['figure.figsize'] = (10.0, 8.0) # set default size of plots\n",
    "plt.rcParams['image.interpolation'] = 'nearest'\n",
    "plt.rcParams['image.cmap'] = 'gray'\n",
    "\n",
    "# for auto-reloading extenrnal modules\n",
    "# see http://stackoverflow.com/questions/1907993/autoreload-of-modules-in-ipython\n",
    "%load_ext autoreload\n",
    "%autoreload 2"
   ]
  },
  {
   "cell_type": "code",
   "execution_count": 2,
   "metadata": {
    "collapsed": false
   },
   "outputs": [
    {
     "name": "stdout",
     "output_type": "stream",
     "text": [
      "Train data shape:  (49000, 3073)\n",
      "Train labels shape:  (49000,)\n",
      "Validation data shape:  (1000, 3073)\n",
      "Validation labels shape:  (1000,)\n",
      "Test data shape:  (1000, 3073)\n",
      "Test labels shape:  (1000,)\n",
      "dev data shape:  (500, 3073)\n",
      "dev labels shape:  (500,)\n"
     ]
    }
   ],
   "source": [
    "def get_CIFAR10_data(num_training=49000, num_validation=1000, num_test=1000, num_dev=500):\n",
    "  \"\"\"\n",
    "  Load the CIFAR-10 dataset from disk and perform preprocessing to prepare\n",
    "  it for the linear classifier. These are the same steps as we used for the\n",
    "  SVM, but condensed to a single function.  \n",
    "  \"\"\"\n",
    "  # Load the raw CIFAR-10 data\n",
    "  cifar10_dir = 'cs231n/datasets/cifar-10-batches-py'\n",
    "  X_train, y_train, X_test, y_test = load_CIFAR10(cifar10_dir)\n",
    "  \n",
    "  # subsample the data\n",
    "  mask = range(num_training, num_training + num_validation)\n",
    "  X_val = X_train[mask]\n",
    "  y_val = y_train[mask]\n",
    "  mask = range(num_training)\n",
    "  X_train = X_train[mask]\n",
    "  y_train = y_train[mask]\n",
    "  mask = range(num_test)\n",
    "  X_test = X_test[mask]\n",
    "  y_test = y_test[mask]\n",
    "  mask = np.random.choice(num_training, num_dev, replace=False)\n",
    "  X_dev = X_train[mask]\n",
    "  y_dev = y_train[mask]\n",
    "  \n",
    "  # Preprocessing: reshape the image data into rows\n",
    "  X_train = np.reshape(X_train, (X_train.shape[0], -1))\n",
    "  X_val = np.reshape(X_val, (X_val.shape[0], -1))\n",
    "  X_test = np.reshape(X_test, (X_test.shape[0], -1))\n",
    "  X_dev = np.reshape(X_dev, (X_dev.shape[0], -1))\n",
    "  \n",
    "  # Normalize the data: subtract the mean image\n",
    "  mean_image = np.mean(X_train, axis = 0)\n",
    "  X_train -= mean_image\n",
    "  X_val -= mean_image\n",
    "  X_test -= mean_image\n",
    "  X_dev -= mean_image\n",
    "  \n",
    "  # add bias dimension and transform into columns\n",
    "  X_train = np.hstack([X_train, np.ones((X_train.shape[0], 1))])\n",
    "  X_val = np.hstack([X_val, np.ones((X_val.shape[0], 1))])\n",
    "  X_test = np.hstack([X_test, np.ones((X_test.shape[0], 1))])\n",
    "  X_dev = np.hstack([X_dev, np.ones((X_dev.shape[0], 1))])\n",
    "  \n",
    "  return X_train, y_train, X_val, y_val, X_test, y_test, X_dev, y_dev\n",
    "\n",
    "\n",
    "# Invoke the above function to get our data.\n",
    "X_train, y_train, X_val, y_val, X_test, y_test, X_dev, y_dev = get_CIFAR10_data()\n",
    "print 'Train data shape: ', X_train.shape\n",
    "print 'Train labels shape: ', y_train.shape\n",
    "print 'Validation data shape: ', X_val.shape\n",
    "print 'Validation labels shape: ', y_val.shape\n",
    "print 'Test data shape: ', X_test.shape\n",
    "print 'Test labels shape: ', y_test.shape\n",
    "print 'dev data shape: ', X_dev.shape\n",
    "print 'dev labels shape: ', y_dev.shape"
   ]
  },
  {
   "cell_type": "markdown",
   "metadata": {},
   "source": [
    "## Softmax Classifier\n",
    "\n",
    "Your code for this section will all be written inside **cs231n/classifiers/softmax.py**. \n"
   ]
  },
  {
   "cell_type": "code",
   "execution_count": 3,
   "metadata": {
    "collapsed": false
   },
   "outputs": [
    {
     "name": "stdout",
     "output_type": "stream",
     "text": [
      "loss: 2.321306\n",
      "sanity check: 2.302585\n"
     ]
    }
   ],
   "source": [
    "# First implement the naive softmax loss function with nested loops.\n",
    "# Open the file cs231n/classifiers/softmax.py and implement the\n",
    "# softmax_loss_naive function.\n",
    "\n",
    "from cs231n.classifiers.softmax import softmax_loss_naive\n",
    "import time\n",
    "\n",
    "# Generate a random softmax weight matrix and use it to compute the loss.\n",
    "W = np.random.randn(3073, 10) * 0.0001\n",
    "loss, grad = softmax_loss_naive(W, X_dev, y_dev, 0.0)\n",
    "\n",
    "# As a rough sanity check, our loss should be something close to -log(0.1).\n",
    "print 'loss: %f' % loss\n",
    "print 'sanity check: %f' % (-np.log(0.1))"
   ]
  },
  {
   "cell_type": "markdown",
   "metadata": {},
   "source": [
    "## Inline Question 1:\n",
    "Why do we expect our loss to be close to -log(0.1)? Explain briefly.**\n",
    "\n",
    "**Your answer:** with random initialization we would expect the probability of the correct class to be 0.1. The loss is -log(P(y[i])) which we would therefore expect to be -log(0.1)\n"
   ]
  },
  {
   "cell_type": "code",
   "execution_count": 4,
   "metadata": {
    "collapsed": false
   },
   "outputs": [
    {
     "name": "stdout",
     "output_type": "stream",
     "text": [
      "numerical: -3.760812 analytic: -3.760812, relative error: 7.966640e-09\n",
      "numerical: 1.805391 analytic: 1.805391, relative error: 3.001782e-08\n",
      "numerical: -1.601737 analytic: -1.601737, relative error: 2.449395e-08\n",
      "numerical: -1.114151 analytic: -1.114151, relative error: 8.881663e-09\n",
      "numerical: 0.259898 analytic: 0.259898, relative error: 1.237542e-07\n",
      "numerical: -0.106343 analytic: -0.106343, relative error: 2.102112e-07\n",
      "numerical: 1.303575 analytic: 1.303575, relative error: 6.528469e-08\n",
      "numerical: -1.875068 analytic: -1.875068, relative error: 6.167118e-09\n",
      "numerical: -0.237854 analytic: -0.237854, relative error: 3.717566e-07\n",
      "numerical: 0.118048 analytic: 0.118048, relative error: 5.202131e-07\n",
      "numerical: -3.036686 analytic: -3.009502, relative error: 4.496140e-03\n",
      "numerical: -0.522350 analytic: -0.529106, relative error: 6.425695e-03\n",
      "numerical: -0.500261 analytic: -0.505927, relative error: 5.631077e-03\n",
      "numerical: -3.216582 analytic: -3.212646, relative error: 6.121574e-04\n",
      "numerical: 1.480029 analytic: 1.473840, relative error: 2.095300e-03\n",
      "numerical: -1.498710 analytic: -1.486893, relative error: 3.957933e-03\n",
      "numerical: 0.898791 analytic: 0.898034, relative error: 4.211213e-04\n",
      "numerical: -1.617409 analytic: -1.634101, relative error: 5.133657e-03\n",
      "numerical: 2.995951 analytic: 2.996930, relative error: 1.633510e-04\n",
      "numerical: -1.127149 analytic: -1.108799, relative error: 8.206458e-03\n"
     ]
    }
   ],
   "source": [
    "# Complete the implementation of softmax_loss_naive and implement a (naive)\n",
    "# version of the gradient that uses nested loops.\n",
    "loss, grad = softmax_loss_naive(W, X_dev, y_dev, 0.0)\n",
    "\n",
    "# As we did for the SVM, use numeric gradient checking as a debugging tool.\n",
    "# The numeric gradient should be close to the analytic gradient.\n",
    "from cs231n.gradient_check import grad_check_sparse\n",
    "f = lambda w: softmax_loss_naive(w, X_dev, y_dev, 0.0)[0]\n",
    "grad_numerical = grad_check_sparse(f, W, grad, 10)\n",
    "\n",
    "# similar to SVM case, do another gradient check with regularization\n",
    "loss, grad = softmax_loss_naive(W, X_dev, y_dev, 1e2)\n",
    "f = lambda w: softmax_loss_naive(w, X_dev, y_dev, 1e2)[0]\n",
    "grad_numerical = grad_check_sparse(f, W, grad, 10)"
   ]
  },
  {
   "cell_type": "code",
   "execution_count": 17,
   "metadata": {
    "collapsed": false
   },
   "outputs": [
    {
     "name": "stdout",
     "output_type": "stream",
     "text": [
      "naive loss: 2.321306e+00 computed in 0.279612s\n",
      "vectorized loss: 2.321306e+00 computed in 0.005570s\n",
      "Loss difference: 0.000000\n",
      "Gradient difference: 0.000000\n"
     ]
    }
   ],
   "source": [
    "# Now that we have a naive implementation of the softmax loss function and its gradient,\n",
    "# implement a vectorized version in softmax_loss_vectorized.\n",
    "# The two versions should compute the same results, but the vectorized version should be\n",
    "# much faster.\n",
    "tic = time.time()\n",
    "loss_naive, grad_naive = softmax_loss_naive(W, X_dev, y_dev, 0.00001)\n",
    "toc = time.time()\n",
    "print 'naive loss: %e computed in %fs' % (loss_naive, toc - tic)\n",
    "\n",
    "from cs231n.classifiers.softmax import softmax_loss_vectorized\n",
    "tic = time.time()\n",
    "loss_vectorized, grad_vectorized = softmax_loss_vectorized(W, X_dev, y_dev, 0.00001)\n",
    "toc = time.time()\n",
    "print 'vectorized loss: %e computed in %fs' % (loss_vectorized, toc - tic)\n",
    "\n",
    "# As we did for the SVM, we use the Frobenius norm to compare the two versions\n",
    "# of the gradient.\n",
    "grad_difference = np.linalg.norm(grad_naive - grad_vectorized, ord='fro')\n",
    "print 'Loss difference: %f' % np.abs(loss_naive - loss_vectorized)\n",
    "print 'Gradient difference: %f' % grad_difference"
   ]
  },
  {
   "cell_type": "code",
   "execution_count": 19,
   "metadata": {
    "collapsed": false
   },
   "outputs": [
    {
     "name": "stdout",
     "output_type": "stream",
     "text": [
      "lr 5.001410e-07 reg 2.767885e+07 train accuracy: 0.319367 val accuracy: 0.319000\n",
      "lr 5.047206e-07 reg 1.339912e+08 train accuracy: 0.318531 val accuracy: 0.332000\n",
      "lr 5.121484e-07 reg 4.708124e+08 train accuracy: 0.317020 val accuracy: 0.308000\n",
      "lr 5.194402e-07 reg 3.729292e+08 train accuracy: 0.318000 val accuracy: 0.331000\n",
      "lr 5.218901e-07 reg 1.312500e+08 train accuracy: 0.323265 val accuracy: 0.342000\n",
      "lr 5.306086e-07 reg 1.441356e+08 train accuracy: 0.324184 val accuracy: 0.317000\n",
      "lr 5.413859e-07 reg 4.382774e+08 train accuracy: 0.319592 val accuracy: 0.299000\n",
      "lr 5.469340e-07 reg 4.818693e+08 train accuracy: 0.317571 val accuracy: 0.328000\n",
      "lr 5.513003e-07 reg 4.889464e+08 train accuracy: 0.315816 val accuracy: 0.315000\n",
      "lr 5.553604e-07 reg 2.814108e+08 train accuracy: 0.316898 val accuracy: 0.309000\n",
      "lr 5.554471e-07 reg 1.064891e+08 train accuracy: 0.319551 val accuracy: 0.337000\n",
      "lr 5.638214e-07 reg 3.751688e+07 train accuracy: 0.321755 val accuracy: 0.324000\n",
      "lr 5.642323e-07 reg 3.754309e+08 train accuracy: 0.322204 val accuracy: 0.304000\n",
      "lr 5.656260e-07 reg 1.523065e+08 train accuracy: 0.326837 val accuracy: 0.327000\n",
      "lr 5.738826e-07 reg 4.682624e+08 train accuracy: 0.320000 val accuracy: 0.321000\n",
      "lr 5.801978e-07 reg 3.599939e+08 train accuracy: 0.326878 val accuracy: 0.328000\n",
      "lr 5.825023e-07 reg 4.905601e+08 train accuracy: 0.329694 val accuracy: 0.333000\n",
      "lr 5.852334e-07 reg 2.112925e+08 train accuracy: 0.322082 val accuracy: 0.315000\n",
      "lr 5.956754e-07 reg 4.006848e+08 train accuracy: 0.326184 val accuracy: 0.335000\n",
      "lr 6.038460e-07 reg 4.366280e+07 train accuracy: 0.323408 val accuracy: 0.319000\n",
      "lr 6.106819e-07 reg 4.509096e+08 train accuracy: 0.323367 val accuracy: 0.332000\n",
      "lr 6.142480e-07 reg 3.162134e+08 train accuracy: 0.325612 val accuracy: 0.308000\n",
      "lr 6.271242e-07 reg 4.622092e+08 train accuracy: 0.328469 val accuracy: 0.339000\n",
      "lr 6.275874e-07 reg 7.988663e+07 train accuracy: 0.326878 val accuracy: 0.345000\n",
      "lr 6.459506e-07 reg 4.935092e+08 train accuracy: 0.332143 val accuracy: 0.336000\n",
      "lr 6.504374e-07 reg 2.274591e+08 train accuracy: 0.327531 val accuracy: 0.318000\n",
      "lr 6.564709e-07 reg 1.235780e+08 train accuracy: 0.329429 val accuracy: 0.333000\n",
      "lr 6.630860e-07 reg 1.982417e+08 train accuracy: 0.329449 val accuracy: 0.327000\n",
      "lr 6.647260e-07 reg 4.580781e+07 train accuracy: 0.329224 val accuracy: 0.315000\n",
      "lr 6.725067e-07 reg 1.722347e+08 train accuracy: 0.334408 val accuracy: 0.315000\n",
      "lr 6.726337e-07 reg 3.143920e+08 train accuracy: 0.332571 val accuracy: 0.333000\n",
      "lr 6.850415e-07 reg 2.817887e+08 train accuracy: 0.330592 val accuracy: 0.322000\n",
      "lr 6.858460e-07 reg 2.835100e+08 train accuracy: 0.336612 val accuracy: 0.333000\n",
      "lr 6.879399e-07 reg 3.119730e+08 train accuracy: 0.326735 val accuracy: 0.334000\n",
      "lr 6.945671e-07 reg 3.903034e+08 train accuracy: 0.331551 val accuracy: 0.341000\n",
      "lr 6.965435e-07 reg 1.699653e+08 train accuracy: 0.327857 val accuracy: 0.328000\n",
      "lr 7.003668e-07 reg 2.415635e+08 train accuracy: 0.332694 val accuracy: 0.349000\n",
      "lr 7.074226e-07 reg 9.151237e+07 train accuracy: 0.330510 val accuracy: 0.341000\n",
      "lr 7.111543e-07 reg 2.937822e+08 train accuracy: 0.333878 val accuracy: 0.345000\n",
      "lr 7.142527e-07 reg 8.971578e+07 train accuracy: 0.333510 val accuracy: 0.333000\n",
      "lr 7.161188e-07 reg 4.234975e+08 train accuracy: 0.335592 val accuracy: 0.340000\n",
      "lr 7.231242e-07 reg 1.210689e+08 train accuracy: 0.335918 val accuracy: 0.322000\n",
      "lr 7.321190e-07 reg 3.773230e+08 train accuracy: 0.334694 val accuracy: 0.327000\n",
      "lr 7.392113e-07 reg 2.530014e+08 train accuracy: 0.333020 val accuracy: 0.349000\n",
      "lr 7.397504e-07 reg 3.631221e+08 train accuracy: 0.335673 val accuracy: 0.342000\n",
      "lr 7.402615e-07 reg 2.935898e+07 train accuracy: 0.336898 val accuracy: 0.329000\n",
      "lr 7.458767e-07 reg 2.968840e+08 train accuracy: 0.336265 val accuracy: 0.348000\n",
      "lr 7.484449e-07 reg 3.314817e+08 train accuracy: 0.333918 val accuracy: 0.324000\n",
      "lr 7.487707e-07 reg 2.319804e+08 train accuracy: 0.338571 val accuracy: 0.331000\n",
      "lr 7.571737e-07 reg 6.843574e+07 train accuracy: 0.335796 val accuracy: 0.329000\n",
      "lr 7.580956e-07 reg 3.266699e+08 train accuracy: 0.335612 val accuracy: 0.326000\n",
      "lr 7.708227e-07 reg 1.128408e+07 train accuracy: 0.332551 val accuracy: 0.337000\n",
      "lr 7.769113e-07 reg 4.363774e+07 train accuracy: 0.334571 val accuracy: 0.335000\n",
      "lr 7.844759e-07 reg 2.873869e+08 train accuracy: 0.337939 val accuracy: 0.349000\n",
      "lr 7.868545e-07 reg 3.941468e+08 train accuracy: 0.339673 val accuracy: 0.325000\n",
      "lr 7.944486e-07 reg 8.328572e+07 train accuracy: 0.331816 val accuracy: 0.309000\n",
      "lr 7.979394e-07 reg 2.339185e+08 train accuracy: 0.338490 val accuracy: 0.335000\n",
      "lr 8.202116e-07 reg 1.406019e+08 train accuracy: 0.333837 val accuracy: 0.334000\n",
      "lr 8.226942e-07 reg 4.872270e+08 train accuracy: 0.335469 val accuracy: 0.329000\n",
      "lr 8.254224e-07 reg 4.239487e+07 train accuracy: 0.341204 val accuracy: 0.360000\n",
      "lr 8.256972e-07 reg 2.803886e+08 train accuracy: 0.339592 val accuracy: 0.339000\n",
      "lr 8.273560e-07 reg 1.624258e+08 train accuracy: 0.335551 val accuracy: 0.342000\n",
      "lr 8.301444e-07 reg 3.134591e+08 train accuracy: 0.335082 val accuracy: 0.339000\n",
      "lr 8.356589e-07 reg 1.147784e+08 train accuracy: 0.337510 val accuracy: 0.337000\n",
      "lr 8.436688e-07 reg 4.970477e+07 train accuracy: 0.338020 val accuracy: 0.321000\n",
      "lr 8.455927e-07 reg 3.932123e+08 train accuracy: 0.342755 val accuracy: 0.348000\n",
      "lr 8.485414e-07 reg 4.139108e+08 train accuracy: 0.337776 val accuracy: 0.318000\n",
      "lr 8.518108e-07 reg 3.766470e+08 train accuracy: 0.340612 val accuracy: 0.318000\n",
      "lr 8.542633e-07 reg 4.036660e+08 train accuracy: 0.343673 val accuracy: 0.330000\n",
      "lr 8.572823e-07 reg 3.517087e+08 train accuracy: 0.341633 val accuracy: 0.352000\n",
      "lr 8.616112e-07 reg 2.640161e+08 train accuracy: 0.339388 val accuracy: 0.343000\n",
      "lr 8.641614e-07 reg 1.407681e+08 train accuracy: 0.339347 val accuracy: 0.359000\n",
      "lr 8.655358e-07 reg 2.114611e+08 train accuracy: 0.335000 val accuracy: 0.342000\n",
      "lr 8.689347e-07 reg 1.091540e+08 train accuracy: 0.339776 val accuracy: 0.328000\n",
      "lr 8.690364e-07 reg 9.707427e+07 train accuracy: 0.338796 val accuracy: 0.327000\n",
      "lr 8.708968e-07 reg 2.818606e+07 train accuracy: 0.337776 val accuracy: 0.352000\n",
      "lr 8.714268e-07 reg 1.135750e+08 train accuracy: 0.336245 val accuracy: 0.324000\n",
      "lr 8.721185e-07 reg 4.608646e+08 train accuracy: 0.339796 val accuracy: 0.342000\n",
      "lr 8.858054e-07 reg 4.000843e+08 train accuracy: 0.344571 val accuracy: 0.340000\n",
      "lr 8.869636e-07 reg 2.361760e+08 train accuracy: 0.341204 val accuracy: 0.342000\n",
      "lr 8.939043e-07 reg 2.300846e+08 train accuracy: 0.340857 val accuracy: 0.347000\n",
      "lr 8.962301e-07 reg 1.094458e+07 train accuracy: 0.340102 val accuracy: 0.332000\n",
      "lr 9.101034e-07 reg 1.053910e+08 train accuracy: 0.346918 val accuracy: 0.351000\n",
      "lr 9.136039e-07 reg 4.574028e+08 train accuracy: 0.343653 val accuracy: 0.351000\n",
      "lr 9.169384e-07 reg 2.921679e+07 train accuracy: 0.347490 val accuracy: 0.333000\n",
      "lr 9.192349e-07 reg 1.922303e+08 train accuracy: 0.340224 val accuracy: 0.328000\n",
      "lr 9.237751e-07 reg 2.812629e+08 train accuracy: 0.343224 val accuracy: 0.332000\n",
      "lr 9.286830e-07 reg 3.472263e+08 train accuracy: 0.339857 val accuracy: 0.346000\n",
      "lr 9.290673e-07 reg 7.974602e+07 train accuracy: 0.341163 val accuracy: 0.346000\n",
      "lr 9.387402e-07 reg 1.196388e+08 train accuracy: 0.342265 val accuracy: 0.337000\n",
      "lr 9.389709e-07 reg 3.478450e+08 train accuracy: 0.344184 val accuracy: 0.339000\n",
      "lr 9.408777e-07 reg 4.601823e+08 train accuracy: 0.345347 val accuracy: 0.352000\n",
      "lr 9.449121e-07 reg 2.046768e+08 train accuracy: 0.345714 val accuracy: 0.344000\n",
      "lr 9.540260e-07 reg 2.166245e+08 train accuracy: 0.345143 val accuracy: 0.329000\n",
      "lr 9.549858e-07 reg 4.692519e+08 train accuracy: 0.345694 val accuracy: 0.329000\n",
      "lr 9.593258e-07 reg 3.550961e+08 train accuracy: 0.342224 val accuracy: 0.342000\n",
      "lr 9.619254e-07 reg 3.821374e+08 train accuracy: 0.345980 val accuracy: 0.334000\n",
      "lr 9.663910e-07 reg 1.727553e+08 train accuracy: 0.345714 val accuracy: 0.320000\n",
      "lr 9.667588e-07 reg 4.573057e+08 train accuracy: 0.348327 val accuracy: 0.354000\n",
      "lr 9.728629e-07 reg 1.200519e+08 train accuracy: 0.345020 val accuracy: 0.324000\n",
      "best validation accuracy achieved during cross-validation: 0.360000\n"
     ]
    }
   ],
   "source": [
    "# Use the validation set to tune hyperparameters (regularization strength and\n",
    "# learning rate). You should experiment with different ranges for the learning\n",
    "# rates and regularization strengths; if you are careful you should be able to\n",
    "# get a classification accuracy of over 0.35 on the validation set.\n",
    "from cs231n.classifiers import Softmax\n",
    "results = {}\n",
    "best_val = -1\n",
    "best_softmax = None\n",
    "learning_rates = [5e-7, 1e-6]\n",
    "regularization_strengths = [1e6, 5e8]\n",
    "\n",
    "\n",
    "max_count = 100\n",
    "for count in xrange(max_count):\n",
    "    lr = np.random.uniform(learning_rates[0], learning_rates[1])\n",
    "    reg = np.random.uniform(regularization_strengths[0], regularization_strengths[1])\n",
    "\n",
    "    softmax = Softmax()\n",
    "                    \n",
    "    loss_hist = softmax.train(X_train, \n",
    "                          y_train, \n",
    "                          learning_rate=lr, \n",
    "                          reg=reg, \n",
    "                          num_iters=1500, \n",
    "                          verbose=True)\n",
    "\n",
    "    y_train_pred = softmax.predict(X_train)\n",
    "    training_accuracy = np.mean(y_train == y_train_pred)\n",
    "    y_val_pred = softmax.predict(X_val)\n",
    "    validation_accuracy = np.mean(y_val == y_val_pred)\n",
    "\n",
    "    results[(lr, reg)] = (training_accuracy, validation_accuracy)\n",
    "        \n",
    "    if validation_accuracy > best_val:\n",
    "        best_val = validation_accuracy\n",
    "        best_softmax = softmax\n",
    "\n",
    "################################################################################\n",
    "# TODO:                                                                        #\n",
    "# Use the validation set to set the learning rate and regularization strength. #\n",
    "# This should be identical to the validation that you did for the SVM; save    #\n",
    "# the best trained softmax classifer in best_softmax.                          #\n",
    "################################################################################\n",
    "pass\n",
    "################################################################################\n",
    "#                              END OF YOUR CODE                                #\n",
    "################################################################################\n",
    "    \n",
    "# Print out results.\n",
    "for lr, reg in sorted(results):\n",
    "    train_accuracy, val_accuracy = results[(lr, reg)]\n",
    "    print 'lr %e reg %e train accuracy: %f val accuracy: %f' % (\n",
    "                lr, reg, train_accuracy, val_accuracy)\n",
    "    \n",
    "print 'best validation accuracy achieved during cross-validation: %f' % best_val"
   ]
  },
  {
   "cell_type": "code",
   "execution_count": 20,
   "metadata": {
    "collapsed": false
   },
   "outputs": [
    {
     "name": "stdout",
     "output_type": "stream",
     "text": [
      "softmax on raw pixels final test set accuracy: 0.329000\n"
     ]
    }
   ],
   "source": [
    "# evaluate on test set\n",
    "# Evaluate the best softmax on test set\n",
    "y_test_pred = best_softmax.predict(X_test)\n",
    "test_accuracy = np.mean(y_test == y_test_pred)\n",
    "print 'softmax on raw pixels final test set accuracy: %f' % (test_accuracy, )"
   ]
  },
  {
   "cell_type": "code",
   "execution_count": 21,
   "metadata": {
    "collapsed": false
   },
   "outputs": [
    {
     "data": {
      "image/png": "[encoded data removed]",
      "text/plain": [
       "<matplotlib.figure.Figure at 0x7feb1a4af410>"
      ]
     },
     "metadata": {},
     "output_type": "display_data"
    }
   ],
   "source": [
    "# Visualize the learned weights for each class\n",
    "w = best_softmax.W[:-1,:] # strip out the bias\n",
    "w = w.reshape(32, 32, 3, 10)\n",
    "\n",
    "w_min, w_max = np.min(w), np.max(w)\n",
    "\n",
    "classes = ['plane', 'car', 'bird', 'cat', 'deer', 'dog', 'frog', 'horse', 'ship', 'truck']\n",
    "for i in xrange(10):\n",
    "  plt.subplot(2, 5, i + 1)\n",
    "  \n",
    "  # Rescale the weights to be between 0 and 255\n",
    "  wimg = 255.0 * (w[:, :, :, i].squeeze() - w_min) / (w_max - w_min)\n",
    "  plt.imshow(wimg.astype('uint8'))\n",
    "  plt.axis('off')\n",
    "  plt.title(classes[i])"
   ]
  },
  {
   "cell_type": "code",
   "execution_count": null,
   "metadata": {
    "collapsed": true
   },
   "outputs": [],
   "source": []
  }
 ],
 "metadata": {
  "kernelspec": {
   "display_name": "Python 2",
   "language": "python",
   "name": "python2"
  },
  "language_info": {
   "codemirror_mode": {
    "name": "ipython",
    "version": 2
   },
   "file_extension": ".py",
   "mimetype": "text/x-python",
   "name": "python",
   "nbconvert_exporter": "python",
   "pygments_lexer": "ipython2",
   "version": "2.7.13"
  }
 },
 "nbformat": 4,
 "nbformat_minor": 0
}
